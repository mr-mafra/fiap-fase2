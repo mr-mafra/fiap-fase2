{
 "cells": [
  {
   "cell_type": "code",
   "execution_count": 2,
   "id": "bfae9eb1-362f-422b-8933-badfbbf033fc",
   "metadata": {},
   "outputs": [
    {
     "name": "stdin",
     "output_type": "stream",
     "text": [
      "Informe o Primeiro valor:  10\n",
      "Informe o Segundo valor:  5\n"
     ]
    },
    {
     "name": "stdout",
     "output_type": "stream",
     "text": [
      "A soma é 15.0\n",
      "A subtração é 5.0\n",
      "A Multiplicação é 50.0\n",
      "A divisão é 2.0\n"
     ]
    }
   ],
   "source": [
    "#Exercicio 1 Calculadora:\n",
    "valor1 = float(input('Informe o Primeiro valor: '))\n",
    "valor2 = float(input('Informe o Segundo valor: '))\n",
    "\n",
    "soma = valor1 + valor2\n",
    "subtracao = valor1 - valor2\n",
    "multiplicacao = valor1 * valor2 \n",
    "divisao = valor1 / valor2\n",
    "\n",
    "print(f\"A soma é {soma}\")\n",
    "print(f\"A subtração é {subtracao}\")\n",
    "print(f\"A Multiplicação é {multiplicacao}\")\n",
    "print(f\"A divisão é {divisao}\")"
   ]
  },
  {
   "cell_type": "code",
   "execution_count": 3,
   "id": "ea2f7ce1-b757-46be-91f4-3fc680fa1f49",
   "metadata": {},
   "outputs": [
    {
     "name": "stdout",
     "output_type": "stream",
     "text": [
      "Este programa calcula a velocidade média de um patinete de um ponto A ao ponto B: \n"
     ]
    },
    {
     "name": "stdin",
     "output_type": "stream",
     "text": [
      "Digite a distancia percorrida pelo patinete:  50\n",
      "Digite o tempo que levou para percorrer o percurso:  15\n"
     ]
    },
    {
     "name": "stdout",
     "output_type": "stream",
     "text": [
      "A velocidade média foi de 3.33 Km/h\n"
     ]
    }
   ],
   "source": [
    "#Exercicio 2 Velocidade média patinete:\n",
    "print(\"Este programa calcula a velocidade média de um patinete de um ponto A ao ponto B: \")\n",
    "distancia = float(input(\"Digite a distancia percorrida pelo patinete: \"))\n",
    "tempo = float(input(\"Digite o tempo que levou para percorrer o percurso: \"))\n",
    "\n",
    "velocidade = distancia / tempo\n",
    "print(f\"A velocidade média foi de {velocidade:.2f} Km/h\")"
   ]
  },
  {
   "cell_type": "code",
   "execution_count": 4,
   "id": "a76b871c-e0d7-471c-89c4-62cd3d789990",
   "metadata": {},
   "outputs": [
    {
     "name": "stdout",
     "output_type": "stream",
     "text": [
      "@@@@@@@@@Trocando o valor entre as váriaveis A e B@@@@@@@@@@\n"
     ]
    },
    {
     "name": "stdin",
     "output_type": "stream",
     "text": [
      "Digite o valor de A:  1\n",
      "Digite o valor de B:  2\n"
     ]
    },
    {
     "name": "stdout",
     "output_type": "stream",
     "text": [
      "Trocamos os valores: A = 2 e B = 1\n"
     ]
    }
   ],
   "source": [
    "#Exercicio 3 - Trocar:\n",
    "print(f\"{'Trocando o valor entre as váriaveis A e B':@^60}\")\n",
    "a = input(\"Digite o valor de A: \")\n",
    "b = input(\"Digite o valor de B: \")\n",
    "troca = a\n",
    "a = b\n",
    "b = troca\n",
    "\n",
    "print(f\"Trocamos os valores: A = {a} e B = {b}\")"
   ]
  },
  {
   "cell_type": "code",
   "execution_count": null,
   "id": "8f308b59-48dd-41ba-8a23-6c5d833f6427",
   "metadata": {},
   "outputs": [],
   "source": []
  }
 ],
 "metadata": {
  "kernelspec": {
   "display_name": "Python 3 (ipykernel)",
   "language": "python",
   "name": "python3"
  },
  "language_info": {
   "codemirror_mode": {
    "name": "ipython",
    "version": 3
   },
   "file_extension": ".py",
   "mimetype": "text/x-python",
   "name": "python",
   "nbconvert_exporter": "python",
   "pygments_lexer": "ipython3",
   "version": "3.11.7"
  }
 },
 "nbformat": 4,
 "nbformat_minor": 5
}
